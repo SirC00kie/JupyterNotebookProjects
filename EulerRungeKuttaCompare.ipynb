{
 "cells": [
  {
   "cell_type": "markdown",
   "id": "cf24416c",
   "metadata": {},
   "source": [
    "**Сравнение численных методов для решения дифференциальных уравнений при \n",
    "моделировании ХТП**"
   ]
  },
  {
   "cell_type": "code",
   "execution_count": 1,
   "id": "58ba5565",
   "metadata": {},
   "outputs": [],
   "source": [
    "import numpy as np\n",
    "%matplotlib inline\n",
    "import matplotlib.pyplot as plt\n",
    "import ipywidgets as widgets\n",
    "from IPython.display import clear_output\n",
    "import pandas as pd"
   ]
  },
  {
   "cell_type": "markdown",
   "id": "113fde22",
   "metadata": {},
   "source": [
    "Дифференциальное уравнение: $y' = -5ty$"
   ]
  },
  {
   "cell_type": "code",
   "execution_count": 2,
   "id": "6bedca0b",
   "metadata": {},
   "outputs": [],
   "source": [
    "def function(t, y):\n",
    "    return -5.0 * y * t"
   ]
  },
  {
   "cell_type": "markdown",
   "id": "bf96ba68",
   "metadata": {},
   "source": [
    "Начальные условия: $y(0)=1$, при  $t∈(0;1)$"
   ]
  },
  {
   "cell_type": "code",
   "execution_count": 3,
   "id": "d03fffc9",
   "metadata": {},
   "outputs": [],
   "source": [
    "y0 = 1\n",
    "t0 = 0"
   ]
  },
  {
   "cell_type": "markdown",
   "id": "edc85d4a",
   "metadata": {},
   "source": [
    "**Метод Эйлера**\n",
    "\n",
    "$y_{i+1} = y_i + h * function(t_i, y_i)$"
   ]
  },
  {
   "cell_type": "code",
   "execution_count": 4,
   "id": "2a41db94",
   "metadata": {},
   "outputs": [],
   "source": [
    "# n - кол-во итераций, h - шаг, (t, y0) - начальная точка\n",
    "def Euler(n, h, t, y0):\n",
    "    y = np.zeros(n+1)\n",
    "    y[0] = y0\n",
    "    for i in range(n):\n",
    "        y[i+1] = y[i] + h * function(t, y[i])\n",
    "        t += h\n",
    "    return y"
   ]
  },
  {
   "cell_type": "markdown",
   "id": "8373ea24",
   "metadata": {},
   "source": [
    "**Метод Рунге-Кутта 2-го порядка**\n",
    "\n",
    "$y_{i+1} = y_i + \\frac{h}{2}[function(t_i, y_i) + function(t_i + h, y_i + h * function(t_i, y_i))]$"
   ]
  },
  {
   "cell_type": "code",
   "execution_count": 5,
   "id": "2121610c",
   "metadata": {},
   "outputs": [],
   "source": [
    "def RungeKuttaSecond(n, h, t, y0):\n",
    "    y = np.zeros(n+1)\n",
    "    y[0] = y0\n",
    "    for i in range(n):\n",
    "        y[i+1] = y[i] + (h/2) * (function(t,y[i])+function(t + h, y[i] + h * function(t,y[i])))\n",
    "        t += h\n",
    "    return y"
   ]
  },
  {
   "cell_type": "markdown",
   "id": "de553874",
   "metadata": {},
   "source": [
    "**Метод Рунге-Кутта 4-го порядка**\n",
    "\n",
    "$y_{i+1} = y_i + \\frac{h}{6}(k_1 + 2k_2 + 2k_3 + k_4)$\n",
    "\n",
    "$k_1 = function(t_i, y_i)$\n",
    "\n",
    "$k_2 = function(t_i + \\frac{h}{2}, y_i + \\frac{hk_1}{2})$\n",
    "\n",
    "$k_3 = function(t_i + \\frac{h}{2}, y_i + \\frac{hk_2}{2})$\n",
    "\n",
    "$k_4 = function(t_i + h, y_i + hk_3)$"
   ]
  },
  {
   "cell_type": "code",
   "execution_count": 6,
   "id": "41ba154e",
   "metadata": {},
   "outputs": [],
   "source": [
    "def RungeKuttaFourth(n, h, t, y0):\n",
    "    y = np.zeros(n+1)\n",
    "    y[0] = y0\n",
    "    for i in range(n):\n",
    "        k1 = function(t,y[i])\n",
    "        k2 = function(t + h/2, y[i] + h*k1/2)\n",
    "        k3 = function(t + h/2, y[i] + h*k2/2)\n",
    "        k4 = function(t + h, y[i] + h*k3)\n",
    "        y[i+1] = y[i] + (h/6) * (k1 + 2*k2 + 2*k3 + k4)\n",
    "        t += h\n",
    "    return y"
   ]
  },
  {
   "cell_type": "markdown",
   "id": "0998d45d",
   "metadata": {},
   "source": [
    "**Аналитическое решение**\n",
    "\n",
    "$y_i = \\exp(\\frac{-5t_i^2}{2})$"
   ]
  },
  {
   "cell_type": "code",
   "execution_count": 7,
   "id": "85e77bfe",
   "metadata": {},
   "outputs": [],
   "source": [
    "def Analytic (n, t):\n",
    "    yAnalytic = np.zeros(n+1)\n",
    "    for i in range(n+1):\n",
    "        yAnalytic[i] = np.exp(-5 * ((t[i] ** 2) / 2))\n",
    "    return yAnalytic"
   ]
  },
  {
   "cell_type": "code",
   "execution_count": 8,
   "id": "ae86715a",
   "metadata": {},
   "outputs": [],
   "source": [
    "dT = widgets.BoundedFloatText(min=0,\n",
    "                              max=1.0,\n",
    "                              step=0.001,\n",
    "                              description='Δt:',\n",
    "                              disabled=False)\n",
    "butCalculate = widgets.Button(description=\"Расчёт\",\n",
    "                              button_style='success',\n",
    "                              disabled=False)"
   ]
  },
  {
   "cell_type": "code",
   "execution_count": 9,
   "id": "101a9278",
   "metadata": {
    "scrolled": false
   },
   "outputs": [
    {
     "data": {
      "application/vnd.jupyter.widget-view+json": {
       "model_id": "dac4d3b9054c4733b4f7dbab6c044095",
       "version_major": 2,
       "version_minor": 0
      },
      "text/plain": [
       "BoundedFloatText(value=0.1, description='Δt:', max=1.0, step=0.001)"
      ]
     },
     "metadata": {},
     "output_type": "display_data"
    },
    {
     "data": {
      "application/vnd.jupyter.widget-view+json": {
       "model_id": "75c90a50067c4cf19a2f5c4a934055ab",
       "version_major": 2,
       "version_minor": 0
      },
      "text/plain": [
       "Button(button_style='success', description='Расчёт', style=ButtonStyle())"
      ]
     },
     "metadata": {},
     "output_type": "display_data"
    },
    {
     "data": {
      "image/png": "[encoded data removed]",
      "text/plain": [
       "<Figure size 576x432 with 1 Axes>"
      ]
     },
     "metadata": {
      "needs_background": "light"
     },
     "output_type": "display_data"
    }
   ],
   "source": [
    "display(dT)\n",
    "display(butCalculate)\n",
    "\n",
    "dfError = pd.DataFrame({\n",
    "        \"Δt\": pd.Series(dtype='float64'),\n",
    "        \"Метод Эйлера\": pd.Series(dtype='float64'),\n",
    "        \"Аналитическое решение\": pd.Series(dtype='float64'),\n",
    "        \"Метод Рунге-Кутта 2-го порядка\":pd.Series(dtype='float64'),\n",
    "        \"Метод Рунге-Кутта 4-го порядка\":pd.Series(dtype='float64'),\n",
    "        \"σ(Эйлер), %\": pd.Series(dtype='float64'),\n",
    "        \"σ(Рунге-Кутта 2-го порядка), %\": pd.Series(dtype='float64'),\n",
    "        \"σ(Рунге-Кутта 4-го порядка), %\": pd.Series(dtype='float64'),\n",
    "    })\n",
    "\n",
    "def on_button_clicked(event):\n",
    "    global dfCompare\n",
    "    \n",
    "    clear_output()\n",
    "    \n",
    "    display(dT)\n",
    "    display(butCalculate)\n",
    "    \n",
    "    #Δt\n",
    "    deltaT = dT.value\n",
    "\n",
    "    # кол-во итераций\n",
    "    steps = int(1 / deltaT)\n",
    "\n",
    "    time = np.linspace(t0, 1, steps + 1)\n",
    "\n",
    "    yEuler = Euler(steps, deltaT, t0, y0)\n",
    "    yRungeKuttaSecond = RungeKuttaSecond(steps, deltaT, t0, y0)\n",
    "    yRungeKuttaFourth = RungeKuttaFourth(steps, deltaT, t0, y0)\n",
    "    yAnalitic = Analytic(steps, time)\n",
    "    \n",
    "    dfCompare = pd.DataFrame({\n",
    "        \"Δt\": pd.Series(time),\n",
    "        \"Метод Эйлера\": pd.Series(yEuler),\n",
    "        \"Аналитическое решение\": pd.Series(yAnalitic),\n",
    "        \"Метод Рунге-Кутта 2-го порядка\":pd.Series(yRungeKuttaSecond),\n",
    "        \"Метод Рунге-Кутта 4-го порядка\":pd.Series(yRungeKuttaFourth),\n",
    "        \n",
    "    })\n",
    "    \n",
    "    dfError.loc[len(dfError.index)] = [dfCompare['Δt'][1],\n",
    "                                       dfCompare['Метод Эйлера'][steps],\n",
    "                                       dfCompare['Аналитическое решение'][steps],\n",
    "                                       dfCompare['Метод Рунге-Кутта 2-го порядка'][steps],\n",
    "                                       dfCompare['Метод Рунге-Кутта 4-го порядка'][steps],\n",
    "                                       np.abs((1-(dfCompare['Метод Эйлера'][steps] /\n",
    "                                                  dfCompare['Аналитическое решение'][steps])) * 100),\n",
    "                                       np.abs((1-(dfCompare['Метод Рунге-Кутта 2-го порядка'][steps] /\n",
    "                                                  dfCompare['Аналитическое решение'][steps])) * 100),\n",
    "                                       np.abs((1-(dfCompare['Метод Рунге-Кутта 4-го порядка'][steps] /\n",
    "                                                  dfCompare['Аналитическое решение'][steps])) * 100)]\n",
    "                                        \n",
    "    \n",
    "    fig, ax = plt.subplots(1, 1, figsize=(8, 6))  # график\n",
    "    ax.grid()  # сетка\n",
    "    #  Добавляем подписи к осям:\n",
    "    ax.set_title('Решение уравнения на интервале [0:1]',\n",
    "                 fontsize=14,\n",
    "                 fontweight='bold')\n",
    "    ax.set_xlabel('t',\n",
    "                  fontsize=14,\n",
    "                  fontweight='bold')\n",
    "    ax.set_ylabel('y',\n",
    "                  fontsize=14,\n",
    "                  fontweight='bold')\n",
    "    ax.plot(dfCompare['Δt'].values,\n",
    "            dfCompare['Метод Эйлера'].values,\n",
    "            \".-\",\n",
    "            lw=1,\n",
    "            color='red',\n",
    "            label='Метод Эйлера')  \n",
    "    ax.plot(dfCompare['Δt'].values,\n",
    "            dfCompare['Аналитическое решение'].values,\n",
    "            \".-\",\n",
    "            lw=1,\n",
    "            color='blue',\n",
    "            label='Аналитическое решение',)  \n",
    "    ax.plot(dfCompare['Δt'].values,\n",
    "            dfCompare['Метод Рунге-Кутта 2-го порядка'].values,\n",
    "            \".-\",\n",
    "            lw=1,\n",
    "            color='green',\n",
    "            label='Метод Рунге-Кутта 2-го порядка',)  \n",
    "    ax.plot(dfCompare['Δt'].values,\n",
    "            dfCompare['Метод Рунге-Кутта 4-го порядка'].values,\n",
    "            \".-\",\n",
    "            lw=1,\n",
    "            color='orange',\n",
    "            label='Метод Рунге-Кутта 4-го порядка',) \n",
    "    plt.legend()\n",
    "    plt.show()\n",
    "    \n",
    "butCalculate.on_click(on_button_clicked)\n",
    "\n"
   ]
  },
  {
   "cell_type": "code",
   "execution_count": 11,
   "id": "e2553e4d",
   "metadata": {
    "scrolled": false
   },
   "outputs": [
    {
     "data": {
      "text/html": [
       "<table style=\"display:inline\" border=\"1\" class=\"dataframe\">\n",
       "  <thead>\n",
       "    <tr style=\"text-align: right;\">\n",
       "      <th></th>\n",
       "      <th>Метод Эйлера</th>\n",
       "      <th>Аналитическое решение</th>\n",
       "      <th>Метод Рунге-Кутта 2-го порядка</th>\n",
       "      <th>Метод Рунге-Кутта 4-го порядка</th>\n",
       "      <th>σ(Эйлер), %</th>\n",
       "      <th>σ(Рунге-Кутта 2-го порядка), %</th>\n",
       "      <th>σ(Рунге-Кутта 4-го порядка), %</th>\n",
       "    </tr>\n",
       "    <tr>\n",
       "      <th>Δt</th>\n",
       "      <th></th>\n",
       "      <th></th>\n",
       "      <th></th>\n",
       "      <th></th>\n",
       "      <th></th>\n",
       "      <th></th>\n",
       "      <th></th>\n",
       "    </tr>\n",
       "  </thead>\n",
       "  <tbody>\n",
       "    <tr>\n",
       "      <th>0.0001</th>\n",
       "      <td>0.082071</td>\n",
       "      <td>0.082085</td>\n",
       "      <td>0.082085</td>\n",
       "      <td>0.082085</td>\n",
       "      <td>0.016669</td>\n",
       "      <td>0.000005</td>\n",
       "      <td>1.951772e-11</td>\n",
       "    </tr>\n",
       "    <tr>\n",
       "      <th>0.0010</th>\n",
       "      <td>0.081948</td>\n",
       "      <td>0.082085</td>\n",
       "      <td>0.082085</td>\n",
       "      <td>0.082085</td>\n",
       "      <td>0.166945</td>\n",
       "      <td>0.000522</td>\n",
       "      <td>4.352518e-10</td>\n",
       "    </tr>\n",
       "    <tr>\n",
       "      <th>0.0020</th>\n",
       "      <td>0.081810</td>\n",
       "      <td>0.082085</td>\n",
       "      <td>0.082087</td>\n",
       "      <td>0.082085</td>\n",
       "      <td>0.334450</td>\n",
       "      <td>0.002093</td>\n",
       "      <td>6.987078e-09</td>\n",
       "    </tr>\n",
       "    <tr>\n",
       "      <th>0.0100</th>\n",
       "      <td>0.080694</td>\n",
       "      <td>0.082085</td>\n",
       "      <td>0.082129</td>\n",
       "      <td>0.082085</td>\n",
       "      <td>1.695090</td>\n",
       "      <td>0.053363</td>\n",
       "      <td>4.475131e-06</td>\n",
       "    </tr>\n",
       "    <tr>\n",
       "      <th>0.0200</th>\n",
       "      <td>0.079253</td>\n",
       "      <td>0.082085</td>\n",
       "      <td>0.082265</td>\n",
       "      <td>0.082085</td>\n",
       "      <td>3.449714</td>\n",
       "      <td>0.218813</td>\n",
       "      <td>7.380876e-05</td>\n",
       "    </tr>\n",
       "    <tr>\n",
       "      <th>0.1000</th>\n",
       "      <td>0.065473</td>\n",
       "      <td>0.082085</td>\n",
       "      <td>0.087652</td>\n",
       "      <td>0.082133</td>\n",
       "      <td>20.237670</td>\n",
       "      <td>6.782039</td>\n",
       "      <td>5.818799e-02</td>\n",
       "    </tr>\n",
       "    <tr>\n",
       "      <th>0.2000</th>\n",
       "      <td>0.038400</td>\n",
       "      <td>0.082085</td>\n",
       "      <td>0.111488</td>\n",
       "      <td>0.083070</td>\n",
       "      <td>53.219223</td>\n",
       "      <td>35.820676</td>\n",
       "      <td>1.199538e+00</td>\n",
       "    </tr>\n",
       "  </tbody>\n",
       "</table style=\"display:inline\"><table style=\"display:inline\" border=\"1\" class=\"dataframe\">\n",
       "  <thead>\n",
       "    <tr style=\"text-align: right;\">\n",
       "      <th></th>\n",
       "      <th>Δt</th>\n",
       "      <th>Метод Эйлера</th>\n",
       "      <th>Аналитическое решение</th>\n",
       "      <th>Метод Рунге-Кутта 2-го порядка</th>\n",
       "      <th>Метод Рунге-Кутта 4-го порядка</th>\n",
       "    </tr>\n",
       "  </thead>\n",
       "  <tbody>\n",
       "    <tr>\n",
       "      <th>0</th>\n",
       "      <td>0.0</td>\n",
       "      <td>1.000000</td>\n",
       "      <td>1.000000</td>\n",
       "      <td>1.000000</td>\n",
       "      <td>1.000000</td>\n",
       "    </tr>\n",
       "    <tr>\n",
       "      <th>1</th>\n",
       "      <td>0.1</td>\n",
       "      <td>1.000000</td>\n",
       "      <td>0.975310</td>\n",
       "      <td>0.975000</td>\n",
       "      <td>0.975310</td>\n",
       "    </tr>\n",
       "    <tr>\n",
       "      <th>2</th>\n",
       "      <td>0.2</td>\n",
       "      <td>0.950000</td>\n",
       "      <td>0.904837</td>\n",
       "      <td>0.904312</td>\n",
       "      <td>0.904837</td>\n",
       "    </tr>\n",
       "    <tr>\n",
       "      <th>3</th>\n",
       "      <td>0.3</td>\n",
       "      <td>0.855000</td>\n",
       "      <td>0.798516</td>\n",
       "      <td>0.798056</td>\n",
       "      <td>0.798516</td>\n",
       "    </tr>\n",
       "    <tr>\n",
       "      <th>4</th>\n",
       "      <td>0.4</td>\n",
       "      <td>0.726750</td>\n",
       "      <td>0.670320</td>\n",
       "      <td>0.670367</td>\n",
       "      <td>0.670320</td>\n",
       "    </tr>\n",
       "    <tr>\n",
       "      <th>5</th>\n",
       "      <td>0.5</td>\n",
       "      <td>0.581400</td>\n",
       "      <td>0.535261</td>\n",
       "      <td>0.536293</td>\n",
       "      <td>0.535264</td>\n",
       "    </tr>\n",
       "    <tr>\n",
       "      <th>6</th>\n",
       "      <td>0.6</td>\n",
       "      <td>0.436050</td>\n",
       "      <td>0.406570</td>\n",
       "      <td>0.408924</td>\n",
       "      <td>0.406577</td>\n",
       "    </tr>\n",
       "    <tr>\n",
       "      <th>7</th>\n",
       "      <td>0.7</td>\n",
       "      <td>0.305235</td>\n",
       "      <td>0.293758</td>\n",
       "      <td>0.297492</td>\n",
       "      <td>0.293774</td>\n",
       "    </tr>\n",
       "    <tr>\n",
       "      <th>8</th>\n",
       "      <td>0.8</td>\n",
       "      <td>0.198403</td>\n",
       "      <td>0.201897</td>\n",
       "      <td>0.206757</td>\n",
       "      <td>0.201923</td>\n",
       "    </tr>\n",
       "    <tr>\n",
       "      <th>9</th>\n",
       "      <td>0.9</td>\n",
       "      <td>0.119042</td>\n",
       "      <td>0.131994</td>\n",
       "      <td>0.137493</td>\n",
       "      <td>0.132032</td>\n",
       "    </tr>\n",
       "    <tr>\n",
       "      <th>10</th>\n",
       "      <td>1.0</td>\n",
       "      <td>0.065473</td>\n",
       "      <td>0.082085</td>\n",
       "      <td>0.087652</td>\n",
       "      <td>0.082133</td>\n",
       "    </tr>\n",
       "  </tbody>\n",
       "</table style=\"display:inline\">"
      ]
     },
     "metadata": {},
     "output_type": "display_data"
    }
   ],
   "source": [
    "from IPython.display import display_html\n",
    "\n",
    "dfError2 = dfError.copy(deep=True)\n",
    "dfError2.set_index('Δt', inplace=True)\n",
    "\n",
    "def display_side_by_side(*args):\n",
    "    html_str=''\n",
    "    for df in args:\n",
    "        html_str += df.to_html()\n",
    "    display_html(html_str.replace('table','table style=\"display:inline\"'), raw=True)\n",
    "display_side_by_side(dfError2.sort_index(), dfCompare)"
   ]
  },
  {
   "cell_type": "markdown",
   "id": "0b8f80c3",
   "metadata": {},
   "source": [
    "**Вывод**\n",
    "\n",
    "С уменьшением шага приращения *Δt* уменьшается *величина относительной погрешности*, а значит, повышается *точность расчета*.\n",
    "\n",
    "В методе Эйлера при уменьшение значение *Δt* в 10 раз (0.01 → 0.001) значение *относительной погрешности* уменьшается также ~ в 10 раз     <br/> (1.695090 % → 0.166945 %). <br/> При изменение (0.01 → 0.0001) ~ в 100 раз (1.695090 % → 0.016669 %). То есть размер шага и ошибка для метода Эйлера связаны линейно.\n",
    "\n",
    "Исходя из таблицы относительной погрешности, можно сделать вывод, что наиболее точным методом является *метод Рунге-Кутта 4-го порядка*.\n",
    "<br/> Из таблицы видно, что метод Рунге-Кутты 2-го порядка обладает 2 порядком точности $(O(h^2))$, при уменьшении шага в 10 раз, результат улучшается в 100 раз. Метод Рунге-Кутты 4-го порядка - 4 порядком точности $(O(h^4))$, при уменьшении шага в 10 раз, результат улучшается в 10000 раз.\n",
    "\n",
    "Для грубого расчета вычисления можно производить методом Эйлера, для точного расчета — методом Рунге-Кутты."
   ]
  }
 ],
 "metadata": {
  "celltoolbar": "Отсутствует",
  "kernelspec": {
   "display_name": "Python 3",
   "language": "python",
   "name": "python3"
  },
  "language_info": {
   "codemirror_mode": {
    "name": "ipython",
    "version": 3
   },
   "file_extension": ".py",
   "mimetype": "text/x-python",
   "name": "python",
   "nbconvert_exporter": "python",
   "pygments_lexer": "ipython3",
   "version": "3.8.8"
  }
 },
 "nbformat": 4,
 "nbformat_minor": 5
}
