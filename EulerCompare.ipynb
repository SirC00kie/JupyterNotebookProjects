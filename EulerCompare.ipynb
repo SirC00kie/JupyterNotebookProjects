{
 "cells": [
  {
   "cell_type": "markdown",
   "id": "cf24416c",
   "metadata": {},
   "source": [
    "**Сравнение численных методов для решения дифференциальных уравнений при \n",
    "моделировании ХТП**"
   ]
  },
  {
   "cell_type": "code",
   "execution_count": 1,
   "id": "58ba5565",
   "metadata": {},
   "outputs": [],
   "source": [
    "import numpy as np\n",
    "%matplotlib inline\n",
    "import matplotlib.pyplot as plt\n",
    "import ipywidgets as widgets\n",
    "from IPython.display import clear_output\n",
    "import pandas as pd"
   ]
  },
  {
   "cell_type": "markdown",
   "id": "113fde22",
   "metadata": {},
   "source": [
    "Дифференциальное уравнение: $y' = -5ty$"
   ]
  },
  {
   "cell_type": "code",
   "execution_count": 2,
   "id": "6bedca0b",
   "metadata": {},
   "outputs": [],
   "source": [
    "def function(t, y):\n",
    "    return -5.0 * y * t"
   ]
  },
  {
   "cell_type": "markdown",
   "id": "bf96ba68",
   "metadata": {},
   "source": [
    "Начальные условия: $y(0)=1$, при  $t∈(0;1)$"
   ]
  },
  {
   "cell_type": "code",
   "execution_count": 3,
   "id": "d03fffc9",
   "metadata": {},
   "outputs": [],
   "source": [
    "y0 = 1\n",
    "t0 = 0"
   ]
  },
  {
   "cell_type": "markdown",
   "id": "edc85d4a",
   "metadata": {},
   "source": [
    "**Метод Эйлера**\n",
    "\n",
    "$y_{i+1} = y_i + h * function(t_i, y_i)$"
   ]
  },
  {
   "cell_type": "code",
   "execution_count": 4,
   "id": "2a41db94",
   "metadata": {},
   "outputs": [],
   "source": [
    "# n - кол-во итераций, h - шаг, (t, y0) - начальная точка\n",
    "def Euler(n, h, t, y0):\n",
    "    y = np.zeros(n+1)\n",
    "    y[0] = y0\n",
    "    for i in range(n):\n",
    "        y[i+1] = y[i] + h * function(t, y[i])\n",
    "        t += h\n",
    "    return y"
   ]
  },
  {
   "cell_type": "markdown",
   "id": "0998d45d",
   "metadata": {},
   "source": [
    "**Аналитическое решение**\n",
    "\n",
    "$y_i = \\exp(\\frac{-5t_i^2}{2})$"
   ]
  },
  {
   "cell_type": "code",
   "execution_count": 5,
   "id": "85e77bfe",
   "metadata": {},
   "outputs": [],
   "source": [
    "def Analytic (n, t):\n",
    "    yAnalytic = np.zeros(n+1)\n",
    "    for i in range(n+1):\n",
    "        yAnalytic[i] = np.exp(-5 * ((t[i] ** 2) / 2))\n",
    "    return yAnalytic"
   ]
  },
  {
   "cell_type": "code",
   "execution_count": 6,
   "id": "ae86715a",
   "metadata": {},
   "outputs": [],
   "source": [
    "dT = widgets.BoundedFloatText(min=0,\n",
    "                              max=1.0,\n",
    "                              step=0.001,\n",
    "                              description='Δt:',\n",
    "                              disabled=False)\n",
    "butCalculate = widgets.Button(description=\"Расчёт\",\n",
    "                              button_style='success',\n",
    "                              disabled=False)"
   ]
  },
  {
   "cell_type": "code",
   "execution_count": 7,
   "id": "101a9278",
   "metadata": {
    "scrolled": false
   },
   "outputs": [
    {
     "data": {
      "application/vnd.jupyter.widget-view+json": {
       "model_id": "887879fd26fc4ea480ff70c710bf11be",
       "version_major": 2,
       "version_minor": 0
      },
      "text/plain": [
       "BoundedFloatText(value=0.1, description='Δt:', max=1.0, step=0.001)"
      ]
     },
     "metadata": {},
     "output_type": "display_data"
    },
    {
     "data": {
      "application/vnd.jupyter.widget-view+json": {
       "model_id": "5291af97056c47a39a2227dbf8e4d200",
       "version_major": 2,
       "version_minor": 0
      },
      "text/plain": [
       "Button(button_style='success', description='Расчёт', style=ButtonStyle())"
      ]
     },
     "metadata": {},
     "output_type": "display_data"
    },
    {
     "name": "stdout",
     "output_type": "stream",
     "text": [
      "       Δt  Метод Эйлера  Аналитическое решение       σ, %\n",
      "0  0.0001      0.082071               0.082085   0.016669\n",
      "1  0.0002      0.082058               0.082085   0.033344\n",
      "2  0.0010      0.081948               0.082085   0.166945\n",
      "3  0.0020      0.081810               0.082085   0.334450\n",
      "4  0.0100      0.080694               0.082085   1.695090\n",
      "5  0.0200      0.079253               0.082085   3.449714\n",
      "6  0.1000      0.065473               0.082085  20.237670\n",
      "8  0.1000      0.065473               0.082085  20.237670\n",
      "7  0.2000      0.038400               0.082085  53.219223\n",
      "     Δt  Метод Эйлера  Аналитическое решение\n",
      "0   0.0      1.000000               1.000000\n",
      "1   0.1      1.000000               0.975310\n",
      "2   0.2      0.950000               0.904837\n",
      "3   0.3      0.855000               0.798516\n",
      "4   0.4      0.726750               0.670320\n",
      "5   0.5      0.581400               0.535261\n",
      "6   0.6      0.436050               0.406570\n",
      "7   0.7      0.305235               0.293758\n",
      "8   0.8      0.198403               0.201897\n",
      "9   0.9      0.119042               0.131994\n",
      "10  1.0      0.065473               0.082085\n"
     ]
    },
    {
     "data": {
      "image/png": "[encoded data removed]",
      "text/plain": [
       "<Figure size 576x432 with 1 Axes>"
      ]
     },
     "metadata": {
      "needs_background": "light"
     },
     "output_type": "display_data"
    }
   ],
   "source": [
    "display(dT)\n",
    "display(butCalculate)\n",
    "\n",
    "dfError = pd.DataFrame({\n",
    "        \"Δt\": pd.Series(dtype='float64'),\n",
    "        \"Метод Эйлера\": pd.Series(dtype='float64'),\n",
    "        \"Аналитическое решение\": pd.Series(dtype='float64'),\n",
    "        \"σ, %\": pd.Series(dtype='float64'),\n",
    "    })\n",
    "\n",
    "def on_button_clicked(event):\n",
    "    global dfCompare\n",
    "    \n",
    "    clear_output()\n",
    "    \n",
    "    display(dT)\n",
    "    display(butCalculate)\n",
    "    \n",
    "    #Δt\n",
    "    deltaT = dT.value\n",
    "\n",
    "    # кол-во итераций\n",
    "    steps = int(1 / deltaT)\n",
    "\n",
    "    time = np.linspace(t0, 1, steps + 1)\n",
    "\n",
    "    yEuler = Euler(steps, deltaT, t0, y0)\n",
    "    yAnalitic = Analytic(steps, time)\n",
    "    \n",
    "    dfCompare = pd.DataFrame({\n",
    "        \"Δt\": pd.Series(time),\n",
    "        \"Метод Эйлера\": pd.Series(yEuler),\n",
    "        \"Аналитическое решение\": pd.Series(yAnalitic),\n",
    "    })\n",
    "    \n",
    "    dfError.loc[len(dfError.index)] = [dfCompare['Δt'][1],\n",
    "                                       dfCompare['Метод Эйлера'][steps],\n",
    "                                       dfCompare['Аналитическое решение'][steps],\n",
    "                                       np.abs((1-(dfCompare['Метод Эйлера'][steps] / \n",
    "                                                  dfCompare['Аналитическое решение'][steps])) * 100)]\n",
    "    \n",
    "    fig, ax = plt.subplots(1, 1, figsize=(8, 6))  # график\n",
    "    ax.grid()  # сетка\n",
    "    #  Добавляем подписи к осям:\n",
    "    ax.set_title('Решение уравнения на интервале [0:1]',\n",
    "                 fontsize=14,\n",
    "                 fontweight='bold')\n",
    "    ax.set_xlabel('t',\n",
    "                  fontsize=14,\n",
    "                  fontweight='bold')\n",
    "    ax.set_ylabel('y',\n",
    "                  fontsize=14,\n",
    "                  fontweight='bold')\n",
    "    ax.plot(dfCompare['Δt'].values,\n",
    "            dfCompare['Метод Эйлера'].values,\n",
    "            \".-\",\n",
    "            lw=1,\n",
    "            color='red',\n",
    "            label='Метод Эйлера')  \n",
    "    ax.plot(dfCompare['Δt'].values,\n",
    "            dfCompare['Аналитическое решение'].values,\n",
    "            \".-\",\n",
    "            lw=1,\n",
    "            color='blue',\n",
    "            label='Аналитическое решение',)  \n",
    "    plt.legend()\n",
    "    \n",
    "    print(dfError.sort_values(by=['Δt']))\n",
    "    print(dfCompare)\n",
    "    \n",
    "    plt.show()\n",
    "    \n",
    "butCalculate.on_click(on_button_clicked)"
   ]
  },
  {
   "cell_type": "code",
   "execution_count": 9,
   "id": "e2553e4d",
   "metadata": {
    "scrolled": true
   },
   "outputs": [
    {
     "data": {
      "text/html": [
       "<table style=\"display:inline\" border=\"1\" class=\"dataframe\">\n",
       "  <thead>\n",
       "    <tr style=\"text-align: right;\">\n",
       "      <th></th>\n",
       "      <th>Δt</th>\n",
       "      <th>Метод Эйлера</th>\n",
       "      <th>Аналитическое решение</th>\n",
       "    </tr>\n",
       "  </thead>\n",
       "  <tbody>\n",
       "    <tr>\n",
       "      <th>0</th>\n",
       "      <td>0.0</td>\n",
       "      <td>1.000000</td>\n",
       "      <td>1.000000</td>\n",
       "    </tr>\n",
       "    <tr>\n",
       "      <th>1</th>\n",
       "      <td>0.1</td>\n",
       "      <td>1.000000</td>\n",
       "      <td>0.975310</td>\n",
       "    </tr>\n",
       "    <tr>\n",
       "      <th>2</th>\n",
       "      <td>0.2</td>\n",
       "      <td>0.950000</td>\n",
       "      <td>0.904837</td>\n",
       "    </tr>\n",
       "    <tr>\n",
       "      <th>3</th>\n",
       "      <td>0.3</td>\n",
       "      <td>0.855000</td>\n",
       "      <td>0.798516</td>\n",
       "    </tr>\n",
       "    <tr>\n",
       "      <th>4</th>\n",
       "      <td>0.4</td>\n",
       "      <td>0.726750</td>\n",
       "      <td>0.670320</td>\n",
       "    </tr>\n",
       "    <tr>\n",
       "      <th>5</th>\n",
       "      <td>0.5</td>\n",
       "      <td>0.581400</td>\n",
       "      <td>0.535261</td>\n",
       "    </tr>\n",
       "    <tr>\n",
       "      <th>6</th>\n",
       "      <td>0.6</td>\n",
       "      <td>0.436050</td>\n",
       "      <td>0.406570</td>\n",
       "    </tr>\n",
       "    <tr>\n",
       "      <th>7</th>\n",
       "      <td>0.7</td>\n",
       "      <td>0.305235</td>\n",
       "      <td>0.293758</td>\n",
       "    </tr>\n",
       "    <tr>\n",
       "      <th>8</th>\n",
       "      <td>0.8</td>\n",
       "      <td>0.198403</td>\n",
       "      <td>0.201897</td>\n",
       "    </tr>\n",
       "    <tr>\n",
       "      <th>9</th>\n",
       "      <td>0.9</td>\n",
       "      <td>0.119042</td>\n",
       "      <td>0.131994</td>\n",
       "    </tr>\n",
       "    <tr>\n",
       "      <th>10</th>\n",
       "      <td>1.0</td>\n",
       "      <td>0.065473</td>\n",
       "      <td>0.082085</td>\n",
       "    </tr>\n",
       "  </tbody>\n",
       "</table style=\"display:inline\"><table style=\"display:inline\" border=\"1\" class=\"dataframe\">\n",
       "  <thead>\n",
       "    <tr style=\"text-align: right;\">\n",
       "      <th></th>\n",
       "      <th>Метод Эйлера</th>\n",
       "      <th>Аналитическое решение</th>\n",
       "      <th>σ, %</th>\n",
       "    </tr>\n",
       "    <tr>\n",
       "      <th>Δt</th>\n",
       "      <th></th>\n",
       "      <th></th>\n",
       "      <th></th>\n",
       "    </tr>\n",
       "  </thead>\n",
       "  <tbody>\n",
       "    <tr>\n",
       "      <th>0.0001</th>\n",
       "      <td>0.082071</td>\n",
       "      <td>0.082085</td>\n",
       "      <td>0.016669</td>\n",
       "    </tr>\n",
       "    <tr>\n",
       "      <th>0.0002</th>\n",
       "      <td>0.082058</td>\n",
       "      <td>0.082085</td>\n",
       "      <td>0.033344</td>\n",
       "    </tr>\n",
       "    <tr>\n",
       "      <th>0.0010</th>\n",
       "      <td>0.081948</td>\n",
       "      <td>0.082085</td>\n",
       "      <td>0.166945</td>\n",
       "    </tr>\n",
       "    <tr>\n",
       "      <th>0.0020</th>\n",
       "      <td>0.081810</td>\n",
       "      <td>0.082085</td>\n",
       "      <td>0.334450</td>\n",
       "    </tr>\n",
       "    <tr>\n",
       "      <th>0.0100</th>\n",
       "      <td>0.080694</td>\n",
       "      <td>0.082085</td>\n",
       "      <td>1.695090</td>\n",
       "    </tr>\n",
       "    <tr>\n",
       "      <th>0.0200</th>\n",
       "      <td>0.079253</td>\n",
       "      <td>0.082085</td>\n",
       "      <td>3.449714</td>\n",
       "    </tr>\n",
       "    <tr>\n",
       "      <th>0.1000</th>\n",
       "      <td>0.065473</td>\n",
       "      <td>0.082085</td>\n",
       "      <td>20.237670</td>\n",
       "    </tr>\n",
       "    <tr>\n",
       "      <th>0.1000</th>\n",
       "      <td>0.065473</td>\n",
       "      <td>0.082085</td>\n",
       "      <td>20.237670</td>\n",
       "    </tr>\n",
       "    <tr>\n",
       "      <th>0.2000</th>\n",
       "      <td>0.038400</td>\n",
       "      <td>0.082085</td>\n",
       "      <td>53.219223</td>\n",
       "    </tr>\n",
       "  </tbody>\n",
       "</table style=\"display:inline\">"
      ]
     },
     "metadata": {},
     "output_type": "display_data"
    }
   ],
   "source": [
    "from IPython.display import display_html\n",
    "\n",
    "dfError2 = dfError.copy(deep=True)\n",
    "dfError2.set_index('Δt', inplace=True)\n",
    "\n",
    "def display_side_by_side(*args):\n",
    "    html_str=''\n",
    "    for df in args:\n",
    "        html_str += df.to_html()\n",
    "    display_html(html_str.replace('table','table style=\"display:inline\"'), raw=True)\n",
    "display_side_by_side(dfCompare,dfError2.sort_index())"
   ]
  },
  {
   "cell_type": "markdown",
   "id": "0b8f80c3",
   "metadata": {},
   "source": [
    "**Вывод**\n",
    "\n",
    "С уменьшением шага приращения *Δt* уменьшается *величина относительной погрешности*, а значит, повышается *точность расчета*.\n",
    "\n",
    "При уменьшение значение *Δt* в 10 раз (0.01 → 0.001) значение *относительной погрешности* уменьшается также ~ в 10 раз     <br/> (1.695090 % → 0.166945 %). <br/> При изменение (0.01 → 0.0001) ~ в 100 раз (1.695090 % → 0.016669 %). То есть размер шага и ошибка для метода Эйлера связаны линейно.\n"
   ]
  }
 ],
 "metadata": {
  "celltoolbar": "Отсутствует",
  "kernelspec": {
   "display_name": "Python 3",
   "language": "python",
   "name": "python3"
  },
  "language_info": {
   "codemirror_mode": {
    "name": "ipython",
    "version": 3
   },
   "file_extension": ".py",
   "mimetype": "text/x-python",
   "name": "python",
   "nbconvert_exporter": "python",
   "pygments_lexer": "ipython3",
   "version": "3.8.8"
  }
 },
 "nbformat": 4,
 "nbformat_minor": 5
}
